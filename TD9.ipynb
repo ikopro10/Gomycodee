{
 "cells": [
  {
   "cell_type": "code",
   "execution_count": 2,
   "id": "dd368ee6",
   "metadata": {},
   "outputs": [
    {
     "name": "stdout",
     "output_type": "stream",
     "text": [
      "Vrai\n",
      "Faux\n"
     ]
    }
   ],
   "source": [
    "# Question 1\n",
    "\n",
    "A = [1,2,3,5,8]\n",
    "l = 0; h = len(A)-1;\n",
    "def binary_search(A, l, h, K):\n",
    "    if h >= l:\n",
    "        mid = int(l + (h - l)/2)\n",
    "        if A[mid] == K:\n",
    "            print('Vrai')\n",
    "        elif A[mid] > K:\n",
    "            return binary_search(A, l, mid-1, K)\n",
    "        else:\n",
    "            return binary_search(A, mid+1, h, K)\n",
    "    else:\n",
    "        print('Faux')\n",
    "for K in range(5,7):\n",
    "    binary_search(A, l, h, K)"
   ]
  },
  {
   "cell_type": "code",
   "execution_count": 3,
   "id": "2afa7394",
   "metadata": {},
   "outputs": [
    {
     "name": "stdout",
     "output_type": "stream",
     "text": [
      "81\n"
     ]
    }
   ],
   "source": [
    "# Question 2\n",
    "\n",
    "def puiss(a,b):\n",
    "    calcul = a**b\n",
    "    return calcul\n",
    "print(puiss(3,4))\n"
   ]
  },
  {
   "cell_type": "code",
   "execution_count": 5,
   "id": "89229d8d",
   "metadata": {},
   "outputs": [
    {
     "data": {
      "text/plain": [
       "[13, 22, 29, 37, 46, 49, 52, 56, 71]"
      ]
     },
     "execution_count": 5,
     "metadata": {},
     "output_type": "execute_result"
    }
   ],
   "source": [
    "# Question 3\n",
    "\n",
    "def tri_B(List):\n",
    "    for L in range(len(List)-1,0,-1):\n",
    "        for R in range(L):\n",
    "            if List[R]>List[R+1]:\n",
    "                init = List[R]\n",
    "                List[R] = List[R+1]\n",
    "                List[R+1] = init\n",
    "    return List\n",
    "List = [29,13,22,37,52,49,46,71,56]\n",
    "tri_B(List)\n"
   ]
  },
  {
   "cell_type": "code",
   "execution_count": null,
   "id": "b4ca3c06",
   "metadata": {},
   "outputs": [],
   "source": [
    "# Question 4\n",
    "\n",
    "def tri_fus(List):\n",
    "    mid = len(List)//2\n",
    "    left = List[:mid]\n",
    "    right = List[mid:]\n",
    "    \n",
    "    #Division de chauque moitiée.\n",
    "    tri_fus(left)\n",
    "    tri_fus(right)\n",
    "    \n",
    "    #Deux itérateurs pour parcourir les deux moitiées\n",
    "    i = 0\n",
    "    j = 0\n",
    "    #Itérateur de la Liste principale\n",
    "    k = 0\n",
    "    \n",
    "    while i < len(left) and j < len(right):\n",
    "        if left [i] < right [j]:\n",
    "            #Utilisation de la valeur de la moitié gauche\n",
    "            List[k] = left[i]\n",
    "            #Déplacer l'iterateur\n",
    "            i += 1\n",
    "        else:\n",
    "            List[k] = right[j]\n",
    "            j += 1\n",
    "            \n",
    "            #déplacer pour l'inserer ensuite\n",
    "            k += 1\n",
    "            \n",
    "        #pour toutes les valeurs restantes\n",
    "        while i < len(left):\n",
    "            List[k] = left [i]\n",
    "            j += 1\n",
    "            K += 1\n",
    "                \n",
    "        while j < len(right):\n",
    "            List[k] = right [j]\n",
    "            j += 1\n",
    "            k += 1\n",
    "                \n",
    "List = [29,13,22,37,52,49,46,71,56]\n",
    "tri_fus(List)\n",
    "print(List)\n",
    "                \n"
   ]
  },
  {
   "cell_type": "code",
   "execution_count": 5,
   "id": "d7076d50",
   "metadata": {},
   "outputs": [
    {
     "name": "stdout",
     "output_type": "stream",
     "text": [
      "[13, 22, 29, 37, 46, 49, 52, 56, 71]\n"
     ]
    }
   ],
   "source": [
    "# Question 5\n",
    "\n",
    "def parti(array, start, end):\n",
    "    pivot = array[start]\n",
    "    low = start + 1\n",
    "    high = end\n",
    "    while True:\n",
    "        #si la valeur actuelle que nous examinons est superieur au pivot\n",
    "        #c'est au bon endroit (coté droit du pivot) et on peut bouger à gauche\n",
    "        #à l'élément suivant.\n",
    "        #Nous devons également nous assurer que nous n'avons pas dépasséle pointeur bas, car cela \n",
    "        #Indique que nous avons déja déplacé tous les éléments vers leur bon coté du pivot\n",
    "        \n",
    "        while low <= high and array[high] >= pivot:\n",
    "            high = high - 1\n",
    "            \n",
    "        # Processus opposé à célui ci-dessus\n",
    "        while low <= high and array[low] <= pivot:\n",
    "            low = low + 1\n",
    "            \n",
    "        #soit nous avons trouvé une valeur pour high et low qui est hors service \n",
    "        # ou low est supérieur à high, cas on sort de la boucle\n",
    "        \n",
    "        if low <= high:\n",
    "            array[low], array[high] = array[high], array[low]\n",
    "            # La boucle continue\n",
    "        else:\n",
    "            #Nous sortons de la boucle\n",
    "            break\n",
    "            \n",
    "    array[start], array[high] = array[high], array[start]\n",
    "    \n",
    "    return high\n",
    "def tri_rap(array, start, end):\n",
    "    if start >= end:\n",
    "        return\n",
    "    s = parti(array, start, end)\n",
    "    tri_rap(array,start,s-1)\n",
    "    tri_rap(array,s+1,end)\n",
    "    \n",
    "array = [29,13,22,37,52,49,46,71,56]\n",
    "tri_rap(array,0,len(array)-1)\n",
    "print(array)"
   ]
  },
  {
   "cell_type": "code",
   "execution_count": null,
   "id": "2064e776",
   "metadata": {},
   "outputs": [],
   "source": []
  }
 ],
 "metadata": {
  "kernelspec": {
   "display_name": "Python 3 (ipykernel)",
   "language": "python",
   "name": "python3"
  },
  "language_info": {
   "codemirror_mode": {
    "name": "ipython",
    "version": 3
   },
   "file_extension": ".py",
   "mimetype": "text/x-python",
   "name": "python",
   "nbconvert_exporter": "python",
   "pygments_lexer": "ipython3",
   "version": "3.9.7"
  }
 },
 "nbformat": 4,
 "nbformat_minor": 5
}
