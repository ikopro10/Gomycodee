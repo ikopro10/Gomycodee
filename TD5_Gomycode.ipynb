{
 "cells": [
  {
   "cell_type": "code",
   "execution_count": 13,
   "id": "f5ba8c18",
   "metadata": {},
   "outputs": [
    {
     "name": "stdout",
     "output_type": "stream",
     "text": [
      "<__main__.Point3D object at 0x000002526E7B8EE0>\n",
      "12\n",
      "14\n",
      "A appartient au cercle\n",
      "110000\n",
      "90000\n"
     ]
    }
   ],
   "source": [
    "class Point3D :\n",
    "    def __init__(self, X, Y, Z):\n",
    "        self.x = X\n",
    "        self.y = Y\n",
    "        self.z = Z\n",
    "        \n",
    "my_point = Point3D(1, 2, 3)\n",
    "print(my_point)\n",
    "\n",
    "class Rectangle :\n",
    "    def __init__(self, largeur, longeur):\n",
    "        self.longeur = longeur\n",
    "        self.largeur = largeur\n",
    "        \n",
    "    def area(self):\n",
    "        return self.largeur*self.longeur\n",
    "    \n",
    "    def perimeter(self):\n",
    "        return 2*(self.largeur+self.longeur)\n",
    "    \n",
    "mon_rectangle = Rectangle(3, 4)\n",
    "\n",
    "print(mon_rectangle.area())\n",
    "print(mon_rectangle.perimeter())\n",
    "\n",
    "class Cercle:\n",
    "    def __init__(self, centre, rayon):\n",
    "        self.centre = centre\n",
    "        self.rayon = centre\n",
    "    def area(self):\n",
    "        return self.rayon**2*3,14\n",
    "    \n",
    "    def perimeter(self):\n",
    "        return 2*3,14*self.rayon\n",
    "        \n",
    "    def islnside(self, x, y):\n",
    "        A = (x-4)**2 + (y-5)**2\n",
    "        \n",
    "        if A == 9:\n",
    "            return \"A appartient au cercle\"\n",
    "            \n",
    "        else:\n",
    "            return \"A n'appartient pas au cercle\"\n",
    "        \n",
    "    \n",
    "mon_cercle = Cercle(0, 3)\n",
    "print(mon_cercle.islnside(1, 5))\n",
    "\n",
    "class Bank:\n",
    "    def __init__(self, solde):\n",
    "        self.solde = solde\n",
    "        \n",
    "    def deposit(self, depo):\n",
    "        operation1 = self.solde + depo\n",
    "        return operation1\n",
    "    \n",
    "    def withdraw(self, withd):\n",
    "        operation2 = self.solde - withd\n",
    "        return operation2\n",
    "        \n",
    "my_Bank = Bank(100000)\n",
    "print(my_Bank.deposit(10000))\n",
    "print(my_Bank.withdraw(10000))\n",
    "            \n",
    "        \n",
    "        \n",
    "        \n",
    "            "
   ]
  },
  {
   "cell_type": "code",
   "execution_count": null,
   "id": "f783a215",
   "metadata": {},
   "outputs": [],
   "source": []
  },
  {
   "cell_type": "code",
   "execution_count": null,
   "id": "0c197fdb",
   "metadata": {},
   "outputs": [],
   "source": []
  }
 ],
 "metadata": {
  "kernelspec": {
   "display_name": "Python 3 (ipykernel)",
   "language": "python",
   "name": "python3"
  },
  "language_info": {
   "codemirror_mode": {
    "name": "ipython",
    "version": 3
   },
   "file_extension": ".py",
   "mimetype": "text/x-python",
   "name": "python",
   "nbconvert_exporter": "python",
   "pygments_lexer": "ipython3",
   "version": "3.9.7"
  }
 },
 "nbformat": 4,
 "nbformat_minor": 5
}
