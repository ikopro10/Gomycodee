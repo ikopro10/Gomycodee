{
 "cells": [
  {
   "cell_type": "code",
   "execution_count": 37,
   "id": "a2834158",
   "metadata": {},
   "outputs": [
    {
     "name": "stdout",
     "output_type": "stream",
     "text": [
      "[1, 2, 3, 4]\n",
      "[[ 4  6  9]\n",
      " [12 10  7]\n",
      " [50 25 11]]\n",
      "25\n",
      "3 Est supérieur à 2\n",
      "5 Est supérieur à 2\n",
      "[[12  5  8]\n",
      " [ 9 10 11]]\n",
      "6.555555555555555\n"
     ]
    }
   ],
   "source": [
    "import numpy as np\n",
    "A = np.array([1, 2, 3, 4])\n",
    "a = A.tolist()\n",
    "print(a)\n",
    "\n",
    "V = np.array([[4, 6, 9], [12, 10, 7], [50, 25, 11]])\n",
    "print(V)\n",
    "S = np.trace(V)\n",
    "print(S)\n",
    "\n",
    "a = np.array([[1, 2], [3, 5]])\n",
    "X = 2\n",
    "b = a[a>X]\n",
    "for i in b:\n",
    "    print(i, \"Est supérieur à 2\")\n",
    "\n",
    "\n",
    "array_1 = ([[7, 4, 5], [3, 8, 2]])\n",
    "array_2 = ([[5, 1, 3], [6, 2, 9]])\n",
    "C = np.add(array_1,array_2)\n",
    "print(C)\n",
    "\n",
    "import statistics\n",
    "K = np.array([[7, 4, 5], [3, 6, 8], [2, 9, 15]])\n",
    "W_A = np.mean(K)\n",
    "\n",
    "print(W_A)\n",
    "\n",
    "\n",
    "\n"
   ]
  },
  {
   "cell_type": "code",
   "execution_count": null,
   "id": "fc919f32",
   "metadata": {},
   "outputs": [],
   "source": []
  },
  {
   "cell_type": "code",
   "execution_count": null,
   "id": "0c09baa0",
   "metadata": {},
   "outputs": [],
   "source": []
  }
 ],
 "metadata": {
  "kernelspec": {
   "display_name": "Python 3 (ipykernel)",
   "language": "python",
   "name": "python3"
  },
  "language_info": {
   "codemirror_mode": {
    "name": "ipython",
    "version": 3
   },
   "file_extension": ".py",
   "mimetype": "text/x-python",
   "name": "python",
   "nbconvert_exporter": "python",
   "pygments_lexer": "ipython3",
   "version": "3.9.7"
  }
 },
 "nbformat": 4,
 "nbformat_minor": 5
}
