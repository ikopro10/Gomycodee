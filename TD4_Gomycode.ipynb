{
 "cells": [
  {
   "cell_type": "code",
   "execution_count": 7,
   "id": "91d25376",
   "metadata": {},
   "outputs": [
    {
     "data": {
      "text/plain": [
       "46"
      ]
     },
     "execution_count": 7,
     "metadata": {},
     "output_type": "execute_result"
    }
   ],
   "source": [
    "def max(a,b,c):\n",
    "    if a > b and a > c:\n",
    "        resultat = a\n",
    "    if b > a and b > c:\n",
    "        resultat = b\n",
    "    if c > a and c > b:\n",
    "        resultat = c\n",
    "    return resultat\n",
    "max(46,10,1)\n",
    "    "
   ]
  },
  {
   "cell_type": "code",
   "execution_count": 2,
   "id": "8915609a",
   "metadata": {},
   "outputs": [
    {
     "data": {
      "text/plain": [
       "(50, 30)"
      ]
     },
     "execution_count": 2,
     "metadata": {},
     "output_type": "execute_result"
    }
   ],
   "source": [
    "def calcul(a,b):\n",
    "  return a+b, a-b\n",
    "calcul(40,10)"
   ]
  },
  {
   "cell_type": "markdown",
   "id": "9b173d85",
   "metadata": {},
   "source": [
    "\n",
    "    "
   ]
  },
  {
   "cell_type": "code",
   "execution_count": 46,
   "id": "1161d839",
   "metadata": {},
   "outputs": [
    {
     "name": "stdout",
     "output_type": "stream",
     "text": [
      "addition des valeurs index pair [1, 3, 5, 7]: 16\n",
      "mutiplication des valeurs index impair [2, 4, 6]: 48\n"
     ]
    }
   ],
   "source": [
    "def add(l):\n",
    "    total= 0\n",
    "    for i in l:\n",
    "        total=total+i\n",
    "    return total\n",
    "def multiple(dl):\n",
    "    total2= 1\n",
    "    for x in dl:\n",
    "        total2=total2*x\n",
    "    return total2\n",
    "def main (list):\n",
    "  pair = []\n",
    "  impair = []\n",
    "  a = len(list)\n",
    "  for i in range(a):\n",
    "    if i%2 == 0:\n",
    "      pair.append(list[i])\n",
    "    else:\n",
    "      impair.append(list[i])\n",
    "  print(\"addition des valeurs index pair {}: {}\".format(pair,add(pair)))\n",
    "  print(\"mutiplication des valeurs index impair {}: {}\".format(impair,multiple(impair)))\n",
    "main([1,2,3,4,5,6,7])"
   ]
  },
  {
   "cell_type": "code",
   "execution_count": 11,
   "id": "2f6f962b",
   "metadata": {},
   "outputs": [
    {
     "name": "stdout",
     "output_type": "stream",
     "text": [
      "entrez une chaine de charecter separe par -: lundi-mardi-mercredi-jeudi-vendredi-samedi-dimanche\n",
      "dimanche-jeudi-lundi-mardi-mercredi-samedi-vendredi\n"
     ]
    }
   ],
   "source": [
    "def abc():\n",
    "  test1 = input (\"entrez une chaine de charecter separe par -: \")\n",
    "  test2 = test1.split(\"-\")\n",
    "  test2.sort()\n",
    "  print(\"-\".join(test2))\n",
    "abc()"
   ]
  },
  {
   "cell_type": "code",
   "execution_count": 71,
   "id": "ce15d2d3",
   "metadata": {},
   "outputs": [
    {
     "name": "stdout",
     "output_type": "stream",
     "text": [
      "entrez la valeur de d: 100,150,180\n",
      "[18, 22, 24]\n"
     ]
    }
   ],
   "source": [
    "import math\n",
    "d = input (\"entrez la valeur de d: \")\n",
    "D = d.split(',')\n",
    "def operation():\n",
    "    t = []\n",
    "    for X in D:\n",
    "        Q= round(math.sqrt(2*50*int(X)/30))\n",
    "        t.append(Q)\n",
    "    print(t)\n",
    "operation()"
   ]
  },
  {
   "cell_type": "code",
   "execution_count": null,
   "id": "8b6ca5f5",
   "metadata": {},
   "outputs": [],
   "source": []
  },
  {
   "cell_type": "code",
   "execution_count": null,
   "id": "24bb91db",
   "metadata": {},
   "outputs": [],
   "source": []
  }
 ],
 "metadata": {
  "kernelspec": {
   "display_name": "Python 3 (ipykernel)",
   "language": "python",
   "name": "python3"
  },
  "language_info": {
   "codemirror_mode": {
    "name": "ipython",
    "version": 3
   },
   "file_extension": ".py",
   "mimetype": "text/x-python",
   "name": "python",
   "nbconvert_exporter": "python",
   "pygments_lexer": "ipython3",
   "version": "3.9.7"
  }
 },
 "nbformat": 4,
 "nbformat_minor": 5
}
