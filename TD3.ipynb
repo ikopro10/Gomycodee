{
 "cells": [
  {
   "cell_type": "code",
   "execution_count": 10,
   "id": "6d73905d",
   "metadata": {},
   "outputs": [
    {
     "name": "stdout",
     "output_type": "stream",
     "text": [
      "36\n"
     ]
    }
   ],
   "source": [
    "Num = 1\n",
    "list = [4,3,3]\n",
    "for i in list:\n",
    "    Num = Num * i\n",
    "print(Num)"
   ]
  },
  {
   "cell_type": "code",
   "execution_count": 5,
   "id": "c5b25cce",
   "metadata": {
    "scrolled": true
   },
   "outputs": [
    {
     "name": "stdout",
     "output_type": "stream",
     "text": [
      "[(2, 1), (1, 2), (2, 3), (4, 4), (2, 5)]\n"
     ]
    }
   ],
   "source": [
    "def exo(items):\n",
    "    return items[1]\n",
    "list = [(2, 5), (1, 2), (4, 4), (2, 3), (2, 1)]\n",
    "list.sort(key = exo) \n",
    "print(list)\n",
    " "
   ]
  },
  {
   "cell_type": "code",
   "execution_count": 20,
   "id": "2d8f8e1a",
   "metadata": {},
   "outputs": [
    {
     "name": "stdout",
     "output_type": "stream",
     "text": [
      "{'a': 400, 'b': 400, 'c': 300, 'd': 400}\n"
     ]
    }
   ],
   "source": [
    "d1 = {'a': 100, 'b': 200, 'c':300}\n",
    "d2 = {'a': 300, 'b': 200, 'd':400}\n",
    "d3 = dict(d1)\n",
    "d3.update(d2)\n",
    "for v, g in d1.items():\n",
    "    for s, t in d2.items():\n",
    "        if v==s:\n",
    "            d3[v]=(g+t)\n",
    "print(d3)\n"
   ]
  },
  {
   "cell_type": "code",
   "execution_count": 8,
   "id": "b1be66cb",
   "metadata": {},
   "outputs": [
    {
     "name": "stdout",
     "output_type": "stream",
     "text": [
      "Entrez la valeur: 5\n",
      "{1: 1, 2: 4, 3: 9, 4: 16, 5: 25}\n"
     ]
    }
   ],
   "source": [
    "user = int(input(\"Entrez la valeur: \"))\n",
    "diction={}\n",
    "for i in range(1,user+1):\n",
    "    diction[i]=i*i\n",
    "print(diction)"
   ]
  },
  {
   "cell_type": "code",
   "execution_count": 18,
   "id": "03a54567",
   "metadata": {},
   "outputs": [
    {
     "name": "stdout",
     "output_type": "stream",
     "text": [
      "[('item1', '12.20'), ('item2', '15.10'), ('item3', '24.5')]\n"
     ]
    }
   ],
   "source": [
    "def exo(item):\n",
    "    return item[1]\n",
    "list = [('item1','12.20'), ('item2','15.10'), ('item3','24.5')]\n",
    "list.sort(key=exo) \n",
    "print(list)"
   ]
  },
  {
   "cell_type": "code",
   "execution_count": null,
   "id": "5092c69b",
   "metadata": {},
   "outputs": [],
   "source": []
  }
 ],
 "metadata": {
  "kernelspec": {
   "display_name": "Python 3 (ipykernel)",
   "language": "python",
   "name": "python3"
  },
  "language_info": {
   "codemirror_mode": {
    "name": "ipython",
    "version": 3
   },
   "file_extension": ".py",
   "mimetype": "text/x-python",
   "name": "python",
   "nbconvert_exporter": "python",
   "pygments_lexer": "ipython3",
   "version": "3.9.7"
  }
 },
 "nbformat": 4,
 "nbformat_minor": 5
}
